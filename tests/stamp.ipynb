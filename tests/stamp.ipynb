{
 "cells": [
  {
   "metadata": {
    "ExecuteTime": {
     "end_time": "2024-10-29T10:33:19.495013Z",
     "start_time": "2024-10-29T10:33:19.178394Z"
    }
   },
   "cell_type": "code",
   "source": [
    "import numpy as np\n",
    "import pandas as pd"
   ],
   "id": "dbf533197f9d9b4d",
   "outputs": [],
   "execution_count": 2
  },
  {
   "metadata": {
    "ExecuteTime": {
     "end_time": "2024-10-29T10:33:19.501910Z",
     "start_time": "2024-10-29T10:33:19.499446Z"
    }
   },
   "cell_type": "code",
   "source": "# batch_x , batch_x_mark , natch_y_mark",
   "id": "beb5ec900be2a4fe",
   "outputs": [],
   "execution_count": 3
  },
  {
   "metadata": {
    "ExecuteTime": {
     "end_time": "2024-10-29T10:33:19.586078Z",
     "start_time": "2024-10-29T10:33:19.546219Z"
    }
   },
   "cell_type": "code",
   "source": [
    "df = pd.read_csv(\"data/ACBI.csv\")\n",
    "size = [96,48,24]\n",
    "\n",
    "seq_len = size[0]\n",
    "label_len = size[1]\n",
    "pred_len = size[2]"
   ],
   "id": "528f2cbec36351f9",
   "outputs": [],
   "execution_count": 4
  },
  {
   "metadata": {
    "ExecuteTime": {
     "end_time": "2024-10-29T10:33:19.610379Z",
     "start_time": "2024-10-29T10:33:19.601211Z"
    }
   },
   "cell_type": "code",
   "source": [
    "complete_df = df.iloc[-seq_len:]\n",
    "complete_df.head()"
   ],
   "id": "496efa89adf8bb74",
   "outputs": [
    {
     "data": {
      "text/plain": [
       "                            date    open    high     low   close  volume\n",
       "57407  2021-12-30 19:47:00+00:00  29.070  29.070  29.060  29.060   530.0\n",
       "57408  2021-12-30 19:52:00+00:00  29.040  29.040  29.040  29.040   238.0\n",
       "57409  2021-12-30 19:54:00+00:00  29.055  29.055  29.055  29.055   147.0\n",
       "57410  2021-12-30 19:59:00+00:00  29.120  29.120  29.120  29.120   109.0\n",
       "57411  2021-12-30 20:08:00+00:00  29.100  29.100  29.100  29.100   431.0"
      ],
      "text/html": [
       "<div>\n",
       "<style scoped>\n",
       "    .dataframe tbody tr th:only-of-type {\n",
       "        vertical-align: middle;\n",
       "    }\n",
       "\n",
       "    .dataframe tbody tr th {\n",
       "        vertical-align: top;\n",
       "    }\n",
       "\n",
       "    .dataframe thead th {\n",
       "        text-align: right;\n",
       "    }\n",
       "</style>\n",
       "<table border=\"1\" class=\"dataframe\">\n",
       "  <thead>\n",
       "    <tr style=\"text-align: right;\">\n",
       "      <th></th>\n",
       "      <th>date</th>\n",
       "      <th>open</th>\n",
       "      <th>high</th>\n",
       "      <th>low</th>\n",
       "      <th>close</th>\n",
       "      <th>volume</th>\n",
       "    </tr>\n",
       "  </thead>\n",
       "  <tbody>\n",
       "    <tr>\n",
       "      <th>57407</th>\n",
       "      <td>2021-12-30 19:47:00+00:00</td>\n",
       "      <td>29.070</td>\n",
       "      <td>29.070</td>\n",
       "      <td>29.060</td>\n",
       "      <td>29.060</td>\n",
       "      <td>530.0</td>\n",
       "    </tr>\n",
       "    <tr>\n",
       "      <th>57408</th>\n",
       "      <td>2021-12-30 19:52:00+00:00</td>\n",
       "      <td>29.040</td>\n",
       "      <td>29.040</td>\n",
       "      <td>29.040</td>\n",
       "      <td>29.040</td>\n",
       "      <td>238.0</td>\n",
       "    </tr>\n",
       "    <tr>\n",
       "      <th>57409</th>\n",
       "      <td>2021-12-30 19:54:00+00:00</td>\n",
       "      <td>29.055</td>\n",
       "      <td>29.055</td>\n",
       "      <td>29.055</td>\n",
       "      <td>29.055</td>\n",
       "      <td>147.0</td>\n",
       "    </tr>\n",
       "    <tr>\n",
       "      <th>57410</th>\n",
       "      <td>2021-12-30 19:59:00+00:00</td>\n",
       "      <td>29.120</td>\n",
       "      <td>29.120</td>\n",
       "      <td>29.120</td>\n",
       "      <td>29.120</td>\n",
       "      <td>109.0</td>\n",
       "    </tr>\n",
       "    <tr>\n",
       "      <th>57411</th>\n",
       "      <td>2021-12-30 20:08:00+00:00</td>\n",
       "      <td>29.100</td>\n",
       "      <td>29.100</td>\n",
       "      <td>29.100</td>\n",
       "      <td>29.100</td>\n",
       "      <td>431.0</td>\n",
       "    </tr>\n",
       "  </tbody>\n",
       "</table>\n",
       "</div>"
      ]
     },
     "execution_count": 5,
     "metadata": {},
     "output_type": "execute_result"
    }
   ],
   "execution_count": 5
  },
  {
   "metadata": {
    "ExecuteTime": {
     "end_time": "2024-10-29T10:33:19.672987Z",
     "start_time": "2024-10-29T10:33:19.664537Z"
    }
   },
   "cell_type": "code",
   "source": [
    "df_date = complete_df[['date']].copy()\n",
    "df_date['date'] = pd.to_datetime(df_date['date'])\n",
    "df_date.head()"
   ],
   "id": "4320845c05bf35a9",
   "outputs": [
    {
     "data": {
      "text/plain": [
       "                           date\n",
       "57407 2021-12-30 19:47:00+00:00\n",
       "57408 2021-12-30 19:52:00+00:00\n",
       "57409 2021-12-30 19:54:00+00:00\n",
       "57410 2021-12-30 19:59:00+00:00\n",
       "57411 2021-12-30 20:08:00+00:00"
      ],
      "text/html": [
       "<div>\n",
       "<style scoped>\n",
       "    .dataframe tbody tr th:only-of-type {\n",
       "        vertical-align: middle;\n",
       "    }\n",
       "\n",
       "    .dataframe tbody tr th {\n",
       "        vertical-align: top;\n",
       "    }\n",
       "\n",
       "    .dataframe thead th {\n",
       "        text-align: right;\n",
       "    }\n",
       "</style>\n",
       "<table border=\"1\" class=\"dataframe\">\n",
       "  <thead>\n",
       "    <tr style=\"text-align: right;\">\n",
       "      <th></th>\n",
       "      <th>date</th>\n",
       "    </tr>\n",
       "  </thead>\n",
       "  <tbody>\n",
       "    <tr>\n",
       "      <th>57407</th>\n",
       "      <td>2021-12-30 19:47:00+00:00</td>\n",
       "    </tr>\n",
       "    <tr>\n",
       "      <th>57408</th>\n",
       "      <td>2021-12-30 19:52:00+00:00</td>\n",
       "    </tr>\n",
       "    <tr>\n",
       "      <th>57409</th>\n",
       "      <td>2021-12-30 19:54:00+00:00</td>\n",
       "    </tr>\n",
       "    <tr>\n",
       "      <th>57410</th>\n",
       "      <td>2021-12-30 19:59:00+00:00</td>\n",
       "    </tr>\n",
       "    <tr>\n",
       "      <th>57411</th>\n",
       "      <td>2021-12-30 20:08:00+00:00</td>\n",
       "    </tr>\n",
       "  </tbody>\n",
       "</table>\n",
       "</div>"
      ]
     },
     "execution_count": 6,
     "metadata": {},
     "output_type": "execute_result"
    }
   ],
   "execution_count": 6
  },
  {
   "metadata": {
    "ExecuteTime": {
     "end_time": "2024-10-29T10:33:19.736735Z",
     "start_time": "2024-10-29T10:33:19.728418Z"
    }
   },
   "cell_type": "code",
   "source": [
    "df_value = complete_df.drop(columns=['date'])\n",
    "df_value.head()"
   ],
   "id": "162dc9c0913d547d",
   "outputs": [
    {
     "data": {
      "text/plain": [
       "         open    high     low   close  volume\n",
       "57407  29.070  29.070  29.060  29.060   530.0\n",
       "57408  29.040  29.040  29.040  29.040   238.0\n",
       "57409  29.055  29.055  29.055  29.055   147.0\n",
       "57410  29.120  29.120  29.120  29.120   109.0\n",
       "57411  29.100  29.100  29.100  29.100   431.0"
      ],
      "text/html": [
       "<div>\n",
       "<style scoped>\n",
       "    .dataframe tbody tr th:only-of-type {\n",
       "        vertical-align: middle;\n",
       "    }\n",
       "\n",
       "    .dataframe tbody tr th {\n",
       "        vertical-align: top;\n",
       "    }\n",
       "\n",
       "    .dataframe thead th {\n",
       "        text-align: right;\n",
       "    }\n",
       "</style>\n",
       "<table border=\"1\" class=\"dataframe\">\n",
       "  <thead>\n",
       "    <tr style=\"text-align: right;\">\n",
       "      <th></th>\n",
       "      <th>open</th>\n",
       "      <th>high</th>\n",
       "      <th>low</th>\n",
       "      <th>close</th>\n",
       "      <th>volume</th>\n",
       "    </tr>\n",
       "  </thead>\n",
       "  <tbody>\n",
       "    <tr>\n",
       "      <th>57407</th>\n",
       "      <td>29.070</td>\n",
       "      <td>29.070</td>\n",
       "      <td>29.060</td>\n",
       "      <td>29.060</td>\n",
       "      <td>530.0</td>\n",
       "    </tr>\n",
       "    <tr>\n",
       "      <th>57408</th>\n",
       "      <td>29.040</td>\n",
       "      <td>29.040</td>\n",
       "      <td>29.040</td>\n",
       "      <td>29.040</td>\n",
       "      <td>238.0</td>\n",
       "    </tr>\n",
       "    <tr>\n",
       "      <th>57409</th>\n",
       "      <td>29.055</td>\n",
       "      <td>29.055</td>\n",
       "      <td>29.055</td>\n",
       "      <td>29.055</td>\n",
       "      <td>147.0</td>\n",
       "    </tr>\n",
       "    <tr>\n",
       "      <th>57410</th>\n",
       "      <td>29.120</td>\n",
       "      <td>29.120</td>\n",
       "      <td>29.120</td>\n",
       "      <td>29.120</td>\n",
       "      <td>109.0</td>\n",
       "    </tr>\n",
       "    <tr>\n",
       "      <th>57411</th>\n",
       "      <td>29.100</td>\n",
       "      <td>29.100</td>\n",
       "      <td>29.100</td>\n",
       "      <td>29.100</td>\n",
       "      <td>431.0</td>\n",
       "    </tr>\n",
       "  </tbody>\n",
       "</table>\n",
       "</div>"
      ]
     },
     "execution_count": 7,
     "metadata": {},
     "output_type": "execute_result"
    }
   ],
   "execution_count": 7
  },
  {
   "metadata": {
    "ExecuteTime": {
     "end_time": "2024-10-29T10:33:20.277423Z",
     "start_time": "2024-10-29T10:33:19.867549Z"
    }
   },
   "cell_type": "code",
   "source": [
    "from sklearn.preprocessing import StandardScaler\n",
    "\n",
    "scaler = StandardScaler()\n",
    "scaler.fit(df_value.values)\n",
    "numpy_value = scaler.transform(df_value.values)\n",
    "numpy_value.shape"
   ],
   "id": "f114c1250ed25cb9",
   "outputs": [
    {
     "data": {
      "text/plain": [
       "(96, 5)"
      ]
     },
     "execution_count": 8,
     "metadata": {},
     "output_type": "execute_result"
    }
   ],
   "execution_count": 8
  },
  {
   "metadata": {
    "ExecuteTime": {
     "end_time": "2024-10-29T10:33:20.402610Z",
     "start_time": "2024-10-29T10:33:20.396658Z"
    }
   },
   "cell_type": "code",
   "source": [
    "from utils.timefeatures import time_features\n",
    "\n",
    "numpy_date = time_features(pd.to_datetime(df_date['date'].values), freq=\"h\")\n",
    "numpy_date = numpy_date.transpose(1, 0)\n",
    "numpy_date.shape"
   ],
   "id": "ba7ee7e89625c52d",
   "outputs": [
    {
     "data": {
      "text/plain": [
       "(96, 4)"
      ]
     },
     "execution_count": 9,
     "metadata": {},
     "output_type": "execute_result"
    }
   ],
   "execution_count": 9
  },
  {
   "metadata": {
    "ExecuteTime": {
     "end_time": "2024-10-29T10:33:20.489034Z",
     "start_time": "2024-10-29T10:33:20.482453Z"
    }
   },
   "cell_type": "code",
   "source": "df_date.iloc[-10:]",
   "id": "3fbd80b203948c11",
   "outputs": [
    {
     "data": {
      "text/plain": [
       "                           date\n",
       "57493 2021-12-31 20:46:00+00:00\n",
       "57494 2021-12-31 20:47:00+00:00\n",
       "57495 2021-12-31 20:50:00+00:00\n",
       "57496 2021-12-31 20:54:00+00:00\n",
       "57497 2021-12-31 20:55:00+00:00\n",
       "57498 2021-12-31 20:56:00+00:00\n",
       "57499 2021-12-31 20:57:00+00:00\n",
       "57500 2021-12-31 20:58:00+00:00\n",
       "57501 2021-12-31 20:59:00+00:00\n",
       "57502 2021-12-31 21:00:00+00:00"
      ],
      "text/html": [
       "<div>\n",
       "<style scoped>\n",
       "    .dataframe tbody tr th:only-of-type {\n",
       "        vertical-align: middle;\n",
       "    }\n",
       "\n",
       "    .dataframe tbody tr th {\n",
       "        vertical-align: top;\n",
       "    }\n",
       "\n",
       "    .dataframe thead th {\n",
       "        text-align: right;\n",
       "    }\n",
       "</style>\n",
       "<table border=\"1\" class=\"dataframe\">\n",
       "  <thead>\n",
       "    <tr style=\"text-align: right;\">\n",
       "      <th></th>\n",
       "      <th>date</th>\n",
       "    </tr>\n",
       "  </thead>\n",
       "  <tbody>\n",
       "    <tr>\n",
       "      <th>57493</th>\n",
       "      <td>2021-12-31 20:46:00+00:00</td>\n",
       "    </tr>\n",
       "    <tr>\n",
       "      <th>57494</th>\n",
       "      <td>2021-12-31 20:47:00+00:00</td>\n",
       "    </tr>\n",
       "    <tr>\n",
       "      <th>57495</th>\n",
       "      <td>2021-12-31 20:50:00+00:00</td>\n",
       "    </tr>\n",
       "    <tr>\n",
       "      <th>57496</th>\n",
       "      <td>2021-12-31 20:54:00+00:00</td>\n",
       "    </tr>\n",
       "    <tr>\n",
       "      <th>57497</th>\n",
       "      <td>2021-12-31 20:55:00+00:00</td>\n",
       "    </tr>\n",
       "    <tr>\n",
       "      <th>57498</th>\n",
       "      <td>2021-12-31 20:56:00+00:00</td>\n",
       "    </tr>\n",
       "    <tr>\n",
       "      <th>57499</th>\n",
       "      <td>2021-12-31 20:57:00+00:00</td>\n",
       "    </tr>\n",
       "    <tr>\n",
       "      <th>57500</th>\n",
       "      <td>2021-12-31 20:58:00+00:00</td>\n",
       "    </tr>\n",
       "    <tr>\n",
       "      <th>57501</th>\n",
       "      <td>2021-12-31 20:59:00+00:00</td>\n",
       "    </tr>\n",
       "    <tr>\n",
       "      <th>57502</th>\n",
       "      <td>2021-12-31 21:00:00+00:00</td>\n",
       "    </tr>\n",
       "  </tbody>\n",
       "</table>\n",
       "</div>"
      ]
     },
     "execution_count": 10,
     "metadata": {},
     "output_type": "execute_result"
    }
   ],
   "execution_count": 10
  },
  {
   "metadata": {
    "ExecuteTime": {
     "end_time": "2024-10-29T10:33:20.578408Z",
     "start_time": "2024-10-29T10:33:20.576351Z"
    }
   },
   "cell_type": "code",
   "source": "",
   "id": "19c1b308f137d0ba",
   "outputs": [],
   "execution_count": null
  },
  {
   "metadata": {
    "ExecuteTime": {
     "end_time": "2024-10-29T10:33:20.726334Z",
     "start_time": "2024-10-29T10:33:20.724478Z"
    }
   },
   "cell_type": "code",
   "source": "",
   "id": "b5b29df17774a7c2",
   "outputs": [],
   "execution_count": null
  },
  {
   "metadata": {
    "ExecuteTime": {
     "end_time": "2024-10-29T11:01:17.008697Z",
     "start_time": "2024-10-29T11:01:17.003722Z"
    }
   },
   "cell_type": "code",
   "source": [
    "def generate_next_date(data: pd.DataFrame, freq: str = \"min\", step: int = 1, nb_sample: int = 10):\n",
    "    last_time = pd.Timestamp(data['date'].values[-1])  # Convertir en Timestamp\n",
    "    assert freq in [\"min\", \"h\", \"d\"], \"freq must be in ['min', 'h', 'd']\"\n",
    "    \n",
    "    if freq == \"min\":\n",
    "        new_dates = [last_time + pd.Timedelta(minutes=step * i) for i in range(1, nb_sample + 1)]\n",
    "    elif freq == \"h\":\n",
    "        new_dates = [last_time + pd.Timedelta(hours=step * i) for i in range(1, nb_sample + 1)]\n",
    "    elif freq == \"d\":\n",
    "        new_dates = [last_time + pd.Timedelta(days=step * i) for i in range(1, nb_sample + 1)]\n",
    "    \n",
    "    new_df = pd.DataFrame(new_dates, columns=['date'])\n",
    "    return new_df"
   ],
   "id": "825fbf877a089544",
   "outputs": [],
   "execution_count": 29
  },
  {
   "metadata": {
    "ExecuteTime": {
     "end_time": "2024-10-29T11:01:18.609553Z",
     "start_time": "2024-10-29T11:01:18.603157Z"
    }
   },
   "cell_type": "code",
   "source": [
    "next_date = generate_next_date(df_date, freq=\"min\", step=1, nb_sample=10)\n",
    "next_date"
   ],
   "id": "a4c1f2ee13ff0c5a",
   "outputs": [
    {
     "data": {
      "text/plain": [
       "                 date\n",
       "0 2021-12-31 21:01:00\n",
       "1 2021-12-31 21:02:00\n",
       "2 2021-12-31 21:03:00\n",
       "3 2021-12-31 21:04:00\n",
       "4 2021-12-31 21:05:00\n",
       "5 2021-12-31 21:06:00\n",
       "6 2021-12-31 21:07:00\n",
       "7 2021-12-31 21:08:00\n",
       "8 2021-12-31 21:09:00\n",
       "9 2021-12-31 21:10:00"
      ],
      "text/html": [
       "<div>\n",
       "<style scoped>\n",
       "    .dataframe tbody tr th:only-of-type {\n",
       "        vertical-align: middle;\n",
       "    }\n",
       "\n",
       "    .dataframe tbody tr th {\n",
       "        vertical-align: top;\n",
       "    }\n",
       "\n",
       "    .dataframe thead th {\n",
       "        text-align: right;\n",
       "    }\n",
       "</style>\n",
       "<table border=\"1\" class=\"dataframe\">\n",
       "  <thead>\n",
       "    <tr style=\"text-align: right;\">\n",
       "      <th></th>\n",
       "      <th>date</th>\n",
       "    </tr>\n",
       "  </thead>\n",
       "  <tbody>\n",
       "    <tr>\n",
       "      <th>0</th>\n",
       "      <td>2021-12-31 21:01:00</td>\n",
       "    </tr>\n",
       "    <tr>\n",
       "      <th>1</th>\n",
       "      <td>2021-12-31 21:02:00</td>\n",
       "    </tr>\n",
       "    <tr>\n",
       "      <th>2</th>\n",
       "      <td>2021-12-31 21:03:00</td>\n",
       "    </tr>\n",
       "    <tr>\n",
       "      <th>3</th>\n",
       "      <td>2021-12-31 21:04:00</td>\n",
       "    </tr>\n",
       "    <tr>\n",
       "      <th>4</th>\n",
       "      <td>2021-12-31 21:05:00</td>\n",
       "    </tr>\n",
       "    <tr>\n",
       "      <th>5</th>\n",
       "      <td>2021-12-31 21:06:00</td>\n",
       "    </tr>\n",
       "    <tr>\n",
       "      <th>6</th>\n",
       "      <td>2021-12-31 21:07:00</td>\n",
       "    </tr>\n",
       "    <tr>\n",
       "      <th>7</th>\n",
       "      <td>2021-12-31 21:08:00</td>\n",
       "    </tr>\n",
       "    <tr>\n",
       "      <th>8</th>\n",
       "      <td>2021-12-31 21:09:00</td>\n",
       "    </tr>\n",
       "    <tr>\n",
       "      <th>9</th>\n",
       "      <td>2021-12-31 21:10:00</td>\n",
       "    </tr>\n",
       "  </tbody>\n",
       "</table>\n",
       "</div>"
      ]
     },
     "execution_count": 30,
     "metadata": {},
     "output_type": "execute_result"
    }
   ],
   "execution_count": 30
  },
  {
   "metadata": {
    "ExecuteTime": {
     "end_time": "2024-10-29T11:24:18.751782Z",
     "start_time": "2024-10-29T11:24:18.736530Z"
    }
   },
   "cell_type": "code",
   "source": [
    "import numpy as np\n",
    "\n",
    "def build_batch(data:pd.DataFrame,size:list, freq:str=\"min\", step:int=1):\n",
    "    seq_len = size[0]\n",
    "    label_len = size[1]\n",
    "    pred_len = size[2]\n",
    "    \n",
    "    data = data.iloc[-seq_len:]\n",
    "    data_date = data[['date']].copy()\n",
    "    \n",
    "    data_value = data.drop(columns=['date'])\n",
    "    \n",
    "    scaler = StandardScaler()\n",
    "    scaler.fit(data_value.values)\n",
    "    numpy_value_x = scaler.transform(data_value.values)\n",
    "    \n",
    "    numpy_date_x = time_features(pd.to_datetime(data_date['date'].values), freq=freq)\n",
    "    numpy_date_x = numpy_date_x.transpose(1, 0)\n",
    "    \n",
    "    next_date = generate_next_date(data_date, freq=freq, step=step, nb_sample=pred_len)\n",
    "    numpy_date_y = time_features(pd.to_datetime(next_date['date'].values), freq=freq)\n",
    "    numpy_date_y = numpy_date_y.transpose(1, 0)\n",
    "    \n",
    "    numpy_date_y = np.concatenate([numpy_date_x[-label_len:], numpy_date_y], axis=0)\n",
    "    \n",
    "    return numpy_value_x, numpy_date_x, numpy_date_y\n",
    "\n",
    "batch_x, batch_x_mark, batch_y_mark = build_batch(df, size, freq=\"h\", step=1)\n",
    "batch_x.shape, batch_x_mark.shape, batch_y_mark.shape"
   ],
   "id": "c684f8592a669944",
   "outputs": [
    {
     "name": "stdout",
     "output_type": "stream",
     "text": [
      "                            date\n",
      "57407  2021-12-30 19:47:00+00:00\n",
      "57408  2021-12-30 19:52:00+00:00\n",
      "57409  2021-12-30 19:54:00+00:00\n",
      "57410  2021-12-30 19:59:00+00:00\n",
      "57411  2021-12-30 20:08:00+00:00\n"
     ]
    },
    {
     "data": {
      "text/plain": [
       "((96, 5), (96, 4), (72, 4))"
      ]
     },
     "execution_count": 59,
     "metadata": {},
     "output_type": "execute_result"
    }
   ],
   "execution_count": 59
  }
 ],
 "metadata": {
  "kernelspec": {
   "display_name": "Python 3",
   "language": "python",
   "name": "python3"
  },
  "language_info": {
   "codemirror_mode": {
    "name": "ipython",
    "version": 2
   },
   "file_extension": ".py",
   "mimetype": "text/x-python",
   "name": "python",
   "nbconvert_exporter": "python",
   "pygments_lexer": "ipython2",
   "version": "2.7.6"
  }
 },
 "nbformat": 4,
 "nbformat_minor": 5
}

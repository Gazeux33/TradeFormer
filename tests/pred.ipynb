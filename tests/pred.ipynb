{
 "cells": [
  {
   "metadata": {
    "ExecuteTime": {
     "end_time": "2024-10-28T17:24:20.950865Z",
     "start_time": "2024-10-28T17:24:19.611731Z"
    }
   },
   "cell_type": "code",
   "source": [
    "from utils.tools import dotdict\n",
    "\n",
    "args = dotdict()\n",
    "args.target = 'OT'\n",
    "args.des = 'test'\n",
    "args.dropout = 0.05\n",
    "args.num_workers = 10\n",
    "args.gpu = 0\n",
    "args.lradj = 'type1'\n",
    "args.devices = '0'\n",
    "args.use_gpu = True\n",
    "args.use_multi_gpu = False\n",
    "args.freq = 'h'\n",
    "args.checkpoints = './checkpoints/'\n",
    "args.bucket_size = 4\n",
    "args.n_hashes = 4\n",
    "args.is_trainging = True\n",
    "args.root_path = './data/ETT'\n",
    "args.data_path ='ETTh1.csv'\n",
    "args.model_id='ETTh1_96_24'\n",
    "args.model = 'Autoformer'\n",
    "args.data = 'ETTh1'\n",
    "args.features = 'M'\n",
    "args.seq_len = 96\n",
    "args.label_len = 48\n",
    "args.pred_len = 24\n",
    "args.e_layers = 2\n",
    "args.d_layers = 1\n",
    "args.n_heads = 8\n",
    "args.factor = 1\n",
    "args.enc_in = 7\n",
    "args.dec_in =7\n",
    "args.c_out = 7\n",
    "args.d_model = 512\n",
    "args.des = 'Exp'\n",
    "args.itr = 1\n",
    "args.d_ff = 2048\n",
    "args.moving_avg = 25\n",
    "args.factor = 1\n",
    "args.distil = True\n",
    "args.output_attention = False\n",
    "args.patience= 3\n",
    "args.learning_rate = 0.0001\n",
    "args.batch_size = 32\n",
    "args.embed = 'timeF'\n",
    "args.activation = 'gelu'\n",
    "args.use_amp = False\n",
    "args.loss = 'mse'\n",
    "args.train_epochs = 10"
   ],
   "id": "79e11090337e07d1",
   "outputs": [],
   "execution_count": 1
  },
  {
   "metadata": {},
   "cell_type": "markdown",
   "source": "## Training",
   "id": "a2049a3d3e9e756"
  },
  {
   "metadata": {
    "ExecuteTime": {
     "end_time": "2024-10-28T17:24:24.406731Z",
     "start_time": "2024-10-28T17:24:23.005965Z"
    }
   },
   "cell_type": "code",
   "source": [
    "\n",
    "from exp.exp_main import Exp_Main\n",
    "exp = Exp_Main(args) # set experiments"
   ],
   "id": "1316e51e55d3dfcf",
   "outputs": [
    {
     "name": "stdout",
     "output_type": "stream",
     "text": [
      "Use GPU: cuda:0\n"
     ]
    }
   ],
   "execution_count": 2
  },
  {
   "metadata": {
    "ExecuteTime": {
     "end_time": "2024-10-28T17:26:52.651183Z",
     "start_time": "2024-10-28T17:24:32.098327Z"
    }
   },
   "cell_type": "code",
   "source": [
    "import torch\n",
    "\n",
    "setting = '{}_{}_{}_ft{}_sl{}_ll{}_pl{}_dm{}_nh{}_el{}_dl{}_df{}_fc{}_eb{}_dt{}_{}_{}'.format(\n",
    "    args.model_id,\n",
    "    args.model,\n",
    "    args.data,\n",
    "    args.features,\n",
    "    args.seq_len,\n",
    "    args.label_len,\n",
    "    args.pred_len,\n",
    "    args.d_model,\n",
    "    args.n_heads,\n",
    "    args.e_layers,\n",
    "    args.d_layers,\n",
    "    args.d_ff,\n",
    "    args.factor,\n",
    "    args.embed,\n",
    "    args.distil,\n",
    "    args.des, 1)\n",
    "\n",
    "print(1)\n",
    "print('>>>>>>>start training : {}>>>>>>>>>>>>>>>>>>>>>>>>>>'.format(setting))\n",
    "exp.train(setting)#setting是用来保存模型的名字用的，很细节\n",
    "print(2)\n",
    "print('>>>>>>>testing : {}<<<<<<<<<<<<<<<<<<<<<<<<<<<<<<<<<'.format(setting))\n",
    "exp.test(setting)\n",
    "torch.cuda.empty_cache()\n",
    "print(3)"
   ],
   "id": "7293cc4ad32c7e7c",
   "outputs": [
    {
     "name": "stdout",
     "output_type": "stream",
     "text": [
      "1\n",
      ">>>>>>>start training : ETTh1_96_24_Autoformer_ETTh1_ftM_sl96_ll48_pl24_dm512_nh8_el2_dl1_df2048_fc1_ebtimeF_dtTrue_Exp_1>>>>>>>>>>>>>>>>>>>>>>>>>>\n",
      "train 8521\n",
      "val 2857\n",
      "test 2857\n",
      "\titers: 100, epoch: 1 | loss: 0.4203987\n",
      "\tspeed: 0.0841s/iter; left time: 215.3882s\n",
      "\titers: 200, epoch: 1 | loss: 0.3379647\n",
      "\tspeed: 0.0767s/iter; left time: 188.8249s\n",
      "Epoch: 1 cost time: 21.21646213531494\n",
      "Epoch: 1, Steps: 266 | Train Loss: 0.3549941 Vali Loss: 0.6255439 Test Loss: 0.3930913\n",
      "Validation loss decreased (inf --> 0.625544).  Saving model ...\n",
      "Updating learning rate to 0.0001\n",
      "\titers: 100, epoch: 2 | loss: 0.3257124\n",
      "\tspeed: 0.1952s/iter; left time: 448.0773s\n",
      "\titers: 200, epoch: 2 | loss: 0.2563295\n",
      "\tspeed: 0.0779s/iter; left time: 170.9067s\n",
      "Epoch: 2 cost time: 21.098941564559937\n",
      "Epoch: 2, Steps: 266 | Train Loss: 0.2949652 Vali Loss: 0.6190213 Test Loss: 0.4046888\n",
      "Validation loss decreased (0.625544 --> 0.619021).  Saving model ...\n",
      "Updating learning rate to 5e-05\n",
      "\titers: 100, epoch: 3 | loss: 0.3215503\n",
      "\tspeed: 0.1929s/iter; left time: 391.3950s\n",
      "\titers: 200, epoch: 3 | loss: 0.2414992\n",
      "\tspeed: 0.0774s/iter; left time: 149.2583s\n",
      "Epoch: 3 cost time: 20.800593852996826\n",
      "Epoch: 3, Steps: 266 | Train Loss: 0.2640670 Vali Loss: 0.6539423 Test Loss: 0.4120116\n",
      "EarlyStopping counter: 1 out of 3\n",
      "Updating learning rate to 2.5e-05\n",
      "\titers: 100, epoch: 4 | loss: 0.2494675\n",
      "\tspeed: 0.1925s/iter; left time: 339.4152s\n",
      "\titers: 200, epoch: 4 | loss: 0.2562688\n",
      "\tspeed: 0.0775s/iter; left time: 128.8278s\n",
      "Epoch: 4 cost time: 20.846760511398315\n",
      "Epoch: 4, Steps: 266 | Train Loss: 0.2434122 Vali Loss: 0.7058533 Test Loss: 0.4608499\n",
      "EarlyStopping counter: 2 out of 3\n",
      "Updating learning rate to 1.25e-05\n",
      "\titers: 100, epoch: 5 | loss: 0.2436843\n",
      "\tspeed: 0.1927s/iter; left time: 288.4498s\n",
      "\titers: 200, epoch: 5 | loss: 0.2032872\n",
      "\tspeed: 0.0842s/iter; left time: 117.6039s\n",
      "Epoch: 5 cost time: 21.694709062576294\n",
      "Epoch: 5, Steps: 266 | Train Loss: 0.2336266 Vali Loss: 0.7536007 Test Loss: 0.5003904\n",
      "EarlyStopping counter: 3 out of 3\n",
      "Early stopping\n",
      "2\n",
      ">>>>>>>testing : ETTh1_96_24_Autoformer_ETTh1_ftM_sl96_ll48_pl24_dm512_nh8_el2_dl1_df2048_fc1_ebtimeF_dtTrue_Exp_1<<<<<<<<<<<<<<<<<<<<<<<<<<<<<<<<<\n",
      "test 2857\n",
      "test shape: (2857, 24, 7) (2857, 24, 7)\n",
      "test shape: (2857, 24, 7) (2857, 24, 7)\n",
      "mse:0.40532198548316956, mae:0.4347500801086426\n",
      "3\n"
     ]
    }
   ],
   "execution_count": 3
  },
  {
   "metadata": {},
   "cell_type": "markdown",
   "source": "## Load Model",
   "id": "9ecdf25c19127998"
  },
  {
   "metadata": {
    "ExecuteTime": {
     "end_time": "2024-10-28T17:33:45.695771Z",
     "start_time": "2024-10-28T17:33:45.534858Z"
    }
   },
   "cell_type": "code",
   "source": [
    "from models.Autoformer import Model as Autoformer\n",
    "\n",
    "\n",
    "model = Autoformer(args)\n",
    "model.load_state_dict(torch.load('checkpoints/{}/checkpoint.pth'.format(setting)))\n"
   ],
   "id": "b9c492f8a31baa90",
   "outputs": [
    {
     "data": {
      "text/plain": [
       "<All keys matched successfully>"
      ]
     },
     "execution_count": 4,
     "metadata": {},
     "output_type": "execute_result"
    }
   ],
   "execution_count": 4
  },
  {
   "metadata": {},
   "cell_type": "markdown",
   "source": "## Load Data",
   "id": "d6485e8de2233f1d"
  },
  {
   "metadata": {
    "ExecuteTime": {
     "end_time": "2024-10-28T17:33:47.648570Z",
     "start_time": "2024-10-28T17:33:47.605783Z"
    }
   },
   "cell_type": "code",
   "source": [
    "from data_provider.data_loader import Dataset_Custom\n",
    "\n",
    "data_set = Dataset_Custom(\n",
    "    root_path=args.root_path,\n",
    "    data_path=args.data_path,\n",
    "    flag=\"train\",\n",
    "    size=[args.seq_len, args.label_len, args.pred_len],\n",
    "    features=args.features,\n",
    "    target=args.target,\n",
    "    timeenc= 0 if args.embed != 'timeF' else 1,\n",
    "    freq=args.freq\n",
    ")\n",
    "len(data_set)"
   ],
   "id": "4f842cee2c2e4777",
   "outputs": [
    {
     "data": {
      "text/plain": [
       "12075"
      ]
     },
     "execution_count": 5,
     "metadata": {},
     "output_type": "execute_result"
    }
   ],
   "execution_count": 5
  },
  {
   "metadata": {
    "ExecuteTime": {
     "end_time": "2024-10-28T17:33:49.569228Z",
     "start_time": "2024-10-28T17:33:49.565234Z"
    }
   },
   "cell_type": "code",
   "source": [
    "seq_x, seq_y, seq_x_mark, seq_y_mark = data_set[0]\n",
    "seq_x.shape, seq_y.shape, seq_x_mark.shape, seq_y_mark.shape\n"
   ],
   "id": "ff748ab291e095b5",
   "outputs": [
    {
     "data": {
      "text/plain": [
       "((96, 7), (72, 7), (96, 4), (72, 4))"
      ]
     },
     "execution_count": 6,
     "metadata": {},
     "output_type": "execute_result"
    }
   ],
   "execution_count": 6
  },
  {
   "metadata": {
    "ExecuteTime": {
     "end_time": "2024-10-28T17:33:55.729836Z",
     "start_time": "2024-10-28T17:33:55.725918Z"
    }
   },
   "cell_type": "code",
   "source": [
    "from torch.utils.data import DataLoader\n",
    "\n",
    "data_loader = DataLoader(data_set, batch_size=1, shuffle=True)\n",
    "len(data_loader)"
   ],
   "id": "478f660a071a24d3",
   "outputs": [
    {
     "data": {
      "text/plain": [
       "12075"
      ]
     },
     "execution_count": 7,
     "metadata": {},
     "output_type": "execute_result"
    }
   ],
   "execution_count": 7
  },
  {
   "metadata": {
    "ExecuteTime": {
     "end_time": "2024-10-28T17:33:57.795519Z",
     "start_time": "2024-10-28T17:33:57.790311Z"
    }
   },
   "cell_type": "code",
   "source": [
    "batch_x , batch_y, batch_x_mark, batch_y_mark = next(iter(data_loader))\n",
    "batch_x.shape, batch_y.shape, batch_x_mark.shape, batch_y_mark.shape"
   ],
   "id": "a8af5620a1d1aedb",
   "outputs": [
    {
     "data": {
      "text/plain": [
       "(torch.Size([1, 96, 7]),\n",
       " torch.Size([1, 72, 7]),\n",
       " torch.Size([1, 96, 4]),\n",
       " torch.Size([1, 72, 4]))"
      ]
     },
     "execution_count": 8,
     "metadata": {},
     "output_type": "execute_result"
    }
   ],
   "execution_count": 8
  },
  {
   "metadata": {
    "ExecuteTime": {
     "end_time": "2024-10-28T17:33:59.417749Z",
     "start_time": "2024-10-28T17:33:59.414378Z"
    }
   },
   "cell_type": "code",
   "source": [
    "batch_x = batch_x.float()\n",
    "batch_y = batch_y.float()\n",
    "batch_x_mark = batch_x_mark.float()\n",
    "batch_y_mark = batch_y_mark.float()"
   ],
   "id": "7c1f34623d65aae5",
   "outputs": [],
   "execution_count": 9
  },
  {
   "metadata": {
    "ExecuteTime": {
     "end_time": "2024-10-28T17:40:36.135238Z",
     "start_time": "2024-10-28T17:40:36.132332Z"
    }
   },
   "cell_type": "code",
   "source": [
    "concat = torch.cat([batch_x, batch_y], dim=1)[:,:,0]\n",
    "concat.shape"
   ],
   "id": "2ba90dce6762bbaa",
   "outputs": [
    {
     "data": {
      "text/plain": [
       "torch.Size([1, 168])"
      ]
     },
     "execution_count": 15,
     "metadata": {},
     "output_type": "execute_result"
    }
   ],
   "execution_count": 15
  },
  {
   "metadata": {
    "ExecuteTime": {
     "end_time": "2024-10-28T17:42:27.196626Z",
     "start_time": "2024-10-28T17:42:27.020925Z"
    }
   },
   "cell_type": "code",
   "source": [
    "import matplotlib.pyplot as plt\n",
    "\n",
    "plt.figure(figsize=(20,10))\n",
    "\n",
    "plt.plot(concat[0,:])\n",
    "plt.savefig('concat.png')"
   ],
   "id": "21a52e42322e5a50",
   "outputs": [],
   "execution_count": 17
  },
  {
   "metadata": {},
   "cell_type": "markdown",
   "source": "## Prediction",
   "id": "a3bd4114b2f81e10"
  },
  {
   "metadata": {},
   "cell_type": "code",
   "outputs": [],
   "execution_count": null,
   "source": [
    "import os\n",
    "import matplotlib.pyplot as plt\n",
    "\n",
    "def visualize_pred(batch_x, batch_y, output, result_dir=\"img\"):\n",
    "    os.makedirs(result_dir, exist_ok=True)\n",
    "    batch_x_np = batch_x.cpu().detach().numpy()\n",
    "    batch_y_np = batch_y.cpu().detach().numpy()\n",
    "    output_np = output.cpu().detach().numpy()\n",
    "\n",
    "    seq_len = len(batch_x_np[0, :, 0])      # longueur de la séquence d'entrée\n",
    "    out_len = len(output_np[0, :, 0])       # longueur de la séquence de sortie\n",
    "\n",
    "    for i in range(batch_x_np.shape[-1]):\n",
    "        plt.figure(figsize=(20, 10))\n",
    "\n",
    "        # Affichage de la séquence d'entrée\n",
    "        plt.plot(range(seq_len), batch_x_np[0, :, i], label='Input Sequence')\n",
    "\n",
    "        # Affichage de la séquence de sortie réelle en continuité de la séquence d'entrée\n",
    "        plt.plot(range(seq_len - 1, seq_len + out_len - 1), batch_y_np[0, -out_len:, i], label='True Output Sequence')\n",
    "\n",
    "        # Affichage de la séquence de sortie prédite en continuité de la séquence d'entrée\n",
    "        plt.plot(range(seq_len - 1, seq_len + out_len - 1), output_np[0, :, i], label='Predicted Output Sequence')\n",
    "\n",
    "        # Mise en forme de la figure\n",
    "        plt.xlabel('Time Steps')\n",
    "        plt.ylabel('Values')\n",
    "        plt.legend()\n",
    "        plt.savefig(f'{result_dir}/pred_{i}.png')\n",
    "        plt.close()"
   ],
   "id": "76cb254eb31fb50e"
  },
  {
   "metadata": {},
   "cell_type": "markdown",
   "source": "## Vanilla",
   "id": "bb9b50bc70786b75"
  },
  {
   "metadata": {
    "ExecuteTime": {
     "end_time": "2024-10-28T18:05:08.929156Z",
     "start_time": "2024-10-28T18:05:08.898381Z"
    }
   },
   "cell_type": "code",
   "source": [
    "\n",
    "# x_enc, x_mark_enc, x_dec, x_mark_dec\n",
    "output = model(batch_x, batch_x_mark, batch_y, batch_y_mark)\n",
    "output.shape"
   ],
   "id": "1941638699d263a4",
   "outputs": [
    {
     "data": {
      "text/plain": [
       "torch.Size([1, 24, 7])"
      ]
     },
     "execution_count": 22,
     "metadata": {},
     "output_type": "execute_result"
    }
   ],
   "execution_count": 22
  },
  {
   "metadata": {
    "ExecuteTime": {
     "end_time": "2024-10-28T18:05:12.379540Z",
     "start_time": "2024-10-28T18:05:11.308984Z"
    }
   },
   "cell_type": "code",
   "source": "visualize_pred(batch_x, batch_y, output,result_dir=\"vanilla\")",
   "id": "35bc0392577c46dc",
   "outputs": [],
   "execution_count": 23
  },
  {
   "metadata": {
    "ExecuteTime": {
     "end_time": "2024-10-28T17:46:47.099475Z",
     "start_time": "2024-10-28T17:46:46.157134Z"
    }
   },
   "cell_type": "code",
   "source": "",
   "id": "938fc3157f8fc379",
   "outputs": [],
   "execution_count": 21
  },
  {
   "metadata": {},
   "cell_type": "markdown",
   "source": "## Dec_inp",
   "id": "8f7aeabf36491a1c"
  },
  {
   "metadata": {
    "ExecuteTime": {
     "end_time": "2024-10-28T18:11:56.508115Z",
     "start_time": "2024-10-28T18:11:56.484742Z"
    }
   },
   "cell_type": "code",
   "source": [
    "dec_inp = torch.zeros_like(batch_x[:, -args.pred_len:, :]).float()\n",
    "dec_inp = torch.cat([batch_x[:, :args.label_len, :], dec_inp], dim=1).float().to(exp.device)\n",
    "dec_inp.shape"
   ],
   "id": "84e5943fdb975088",
   "outputs": [
    {
     "data": {
      "text/plain": [
       "torch.Size([1, 72, 7])"
      ]
     },
     "execution_count": 37,
     "metadata": {},
     "output_type": "execute_result"
    }
   ],
   "execution_count": 37
  },
  {
   "metadata": {
    "ExecuteTime": {
     "end_time": "2024-10-28T18:12:01.728726Z",
     "start_time": "2024-10-28T18:12:01.712800Z"
    }
   },
   "cell_type": "code",
   "source": "dec_inp",
   "id": "35c00fd4a487b45a",
   "outputs": [
    {
     "data": {
      "text/plain": [
       "tensor([[[-0.0754,  0.1832,  0.1326,  0.3960, -1.0694, -0.7178, -1.5979],\n",
       "         [ 0.2515,  1.0076,  0.4731,  1.4284, -1.0181, -0.6257, -1.5726],\n",
       "         [ 0.4308,  0.9442,  0.5885,  1.4284, -1.2747, -0.7178, -1.6485],\n",
       "         [ 0.5363,  0.9442,  0.7443,  1.5945, -1.3260, -0.7646, -1.6064],\n",
       "         [ 0.3992,  1.1027,  0.6577,  1.5208, -1.3774, -0.7646, -1.3957],\n",
       "         [ 0.3781,  1.2612,  0.6520,  1.6494, -1.3774, -0.7646, -1.4378],\n",
       "         [ 0.1882,  0.7539,  0.4615,  1.4098, -1.2234, -0.5804, -1.4884],\n",
       "         [ 0.3464,  0.9759,  0.5481,  1.5021, -1.1468, -0.6725, -1.4547],\n",
       "         [ 0.4308,  0.6588,  0.5596,  0.9678, -0.6849, -0.4883, -1.5811],\n",
       "         [ 0.8632,  1.2295,  1.0272,  1.5389,  0.1859, -0.2121, -1.5726],\n",
       "         [ 0.6313,  1.2612,  0.7040,  1.2993,  0.1859,  0.1548, -1.3535],\n",
       "         [ 0.2620,  0.9442,  0.2942,  0.9678,  0.0328,  0.3857, -1.2609],\n",
       "         [ 0.2831,  0.7539,  0.2942,  0.7649, -0.0186,  0.3389, -1.2356],\n",
       "         [ 0.5258,  0.8173,  0.5078,  1.0414,  0.4164,  0.1548, -1.0164],\n",
       "         [-0.0438,  0.2783,  0.0517,  0.2855, -0.3004,  0.1548, -1.0839],\n",
       "         [ 0.1565,  0.9125,  0.2712,  0.8936, -0.5823, -0.0294, -1.0249],\n",
       "         [ 0.2620,  1.0393,  0.3462,  1.0414, -0.4544,  0.6605, -0.9406],\n",
       "         [ 0.1145,  0.9125,  0.2133,  1.1888, -0.4805,  0.1548, -1.0755],\n",
       "         [ 0.2515,  0.5954,  0.2192,  0.5621, -0.0447,  0.2016, -1.1513],\n",
       "         [ 0.4730,  0.4368,  0.3173,  0.4884,  0.6478,  0.1095, -1.1092],\n",
       "         [ 0.4308,  0.2466,  0.2596,  0.1750,  0.8783,  0.3389, -1.0164],\n",
       "         [ 0.2726,  0.3417,  0.1961,  0.4329,  0.4425, -0.1200, -0.9659],\n",
       "         [ 0.1460,  0.3417,  0.1211,  0.5434,  0.1093,  0.0627, -1.0586],\n",
       "         [-0.1387, -0.1652, -0.0579,  0.1750, -0.5823, -0.4883, -0.8648],\n",
       "         [-0.2442,  0.2783, -0.0405,  0.2669, -0.9155, -0.4883, -0.9238],\n",
       "         [ 0.1356,  0.7539,  0.3347,  0.8754, -0.8902, -0.3042, -1.1008],\n",
       "         [ 0.1145,  0.4685,  0.3114,  0.6907, -0.9415, -0.2589, -1.0839],\n",
       "         [ 0.3675,  0.9442,  0.5309,  1.0227, -0.9929, -0.3510, -1.1935],\n",
       "         [ 0.1356,  0.8173,  0.3230,  0.7649, -0.9929, -0.2589, -1.2356],\n",
       "         [ 0.3359,  0.9442,  0.5135,  1.0227, -1.0442, -0.2589, -1.2693],\n",
       "         [ 0.2304,  0.6905,  0.4443,  0.9122, -0.8650, -0.2121, -1.1766],\n",
       "         [ 0.3886,  0.8807,  0.4674,  0.7831, -0.8650, -0.2589, -1.0839],\n",
       "         [ 0.3886,  0.6271,  0.4095,  0.6539, -0.7110, -0.3962, -1.1344],\n",
       "         [ 0.5996,  0.7539,  0.5655,  1.0414, -0.2499, -0.3962, -1.2188],\n",
       "         [ 0.6524,  1.1344,  0.6694,  1.3729, -0.1725, -0.1200, -1.3115],\n",
       "         [ 0.2937,  0.8490,  0.2653,  0.8754, -0.3778,  0.6152, -1.2356],\n",
       "         [ 0.2620,  0.6588,  0.3288,  1.0046, -0.1725,  0.2469, -1.2271],\n",
       "         [ 0.5258,  1.0076,  0.3865,  1.0046,  0.2633,  0.0627, -1.1008],\n",
       "         [-0.0121,  0.0246,  0.0576,  0.2119, -0.4031, -0.1200, -1.0839],\n",
       "         [ 0.1565,  0.5002,  0.1268,  0.6357, -0.1212,  0.2937, -1.1177],\n",
       "         [ 0.2304,  1.2295,  0.3980,  1.4098, -0.3004,  0.3389, -1.0333],\n",
       "         [ 0.3042,  1.0393,  0.3058,  0.8754, -0.3265,  0.7073, -0.9997],\n",
       "         [ 0.3464,  0.5637,  0.2827,  0.8936,  0.2372,  0.4778, -0.9659],\n",
       "         [ 0.4519,  0.6905,  0.3634,  0.6171,  0.8009,  0.1548, -0.8817],\n",
       "         [ 0.3042,  0.3734,  0.1961,  0.3037,  0.5191, -0.2121, -0.7974],\n",
       "         [ 0.2304,  0.2783,  0.1903,  0.5066,  0.1859, -0.1200, -0.8817],\n",
       "         [ 0.1145,  0.2783,  0.1096,  0.4884, -0.0186, -0.3042, -0.9744],\n",
       "         [ 0.0195,  0.2783,  0.0115,  0.5252, -0.4805, -0.7646, -0.9912],\n",
       "         [ 0.0000,  0.0000,  0.0000,  0.0000,  0.0000,  0.0000,  0.0000],\n",
       "         [ 0.0000,  0.0000,  0.0000,  0.0000,  0.0000,  0.0000,  0.0000],\n",
       "         [ 0.0000,  0.0000,  0.0000,  0.0000,  0.0000,  0.0000,  0.0000],\n",
       "         [ 0.0000,  0.0000,  0.0000,  0.0000,  0.0000,  0.0000,  0.0000],\n",
       "         [ 0.0000,  0.0000,  0.0000,  0.0000,  0.0000,  0.0000,  0.0000],\n",
       "         [ 0.0000,  0.0000,  0.0000,  0.0000,  0.0000,  0.0000,  0.0000],\n",
       "         [ 0.0000,  0.0000,  0.0000,  0.0000,  0.0000,  0.0000,  0.0000],\n",
       "         [ 0.0000,  0.0000,  0.0000,  0.0000,  0.0000,  0.0000,  0.0000],\n",
       "         [ 0.0000,  0.0000,  0.0000,  0.0000,  0.0000,  0.0000,  0.0000],\n",
       "         [ 0.0000,  0.0000,  0.0000,  0.0000,  0.0000,  0.0000,  0.0000],\n",
       "         [ 0.0000,  0.0000,  0.0000,  0.0000,  0.0000,  0.0000,  0.0000],\n",
       "         [ 0.0000,  0.0000,  0.0000,  0.0000,  0.0000,  0.0000,  0.0000],\n",
       "         [ 0.0000,  0.0000,  0.0000,  0.0000,  0.0000,  0.0000,  0.0000],\n",
       "         [ 0.0000,  0.0000,  0.0000,  0.0000,  0.0000,  0.0000,  0.0000],\n",
       "         [ 0.0000,  0.0000,  0.0000,  0.0000,  0.0000,  0.0000,  0.0000],\n",
       "         [ 0.0000,  0.0000,  0.0000,  0.0000,  0.0000,  0.0000,  0.0000],\n",
       "         [ 0.0000,  0.0000,  0.0000,  0.0000,  0.0000,  0.0000,  0.0000],\n",
       "         [ 0.0000,  0.0000,  0.0000,  0.0000,  0.0000,  0.0000,  0.0000],\n",
       "         [ 0.0000,  0.0000,  0.0000,  0.0000,  0.0000,  0.0000,  0.0000],\n",
       "         [ 0.0000,  0.0000,  0.0000,  0.0000,  0.0000,  0.0000,  0.0000],\n",
       "         [ 0.0000,  0.0000,  0.0000,  0.0000,  0.0000,  0.0000,  0.0000],\n",
       "         [ 0.0000,  0.0000,  0.0000,  0.0000,  0.0000,  0.0000,  0.0000],\n",
       "         [ 0.0000,  0.0000,  0.0000,  0.0000,  0.0000,  0.0000,  0.0000],\n",
       "         [ 0.0000,  0.0000,  0.0000,  0.0000,  0.0000,  0.0000,  0.0000]]],\n",
       "       device='cuda:0')"
      ]
     },
     "execution_count": 38,
     "metadata": {},
     "output_type": "execute_result"
    }
   ],
   "execution_count": 38
  },
  {
   "metadata": {
    "ExecuteTime": {
     "end_time": "2024-10-28T18:12:08.197118Z",
     "start_time": "2024-10-28T18:12:07.237616Z"
    }
   },
   "cell_type": "code",
   "source": [
    "outputs = model(batch_x, batch_x_mark, dec_inp, batch_y_mark)\n",
    "visualize_pred(batch_x, batch_y, output,result_dir=\"dec\")"
   ],
   "id": "381ef7204633a391",
   "outputs": [],
   "execution_count": 39
  }
 ],
 "metadata": {
  "kernelspec": {
   "display_name": "Python 3",
   "language": "python",
   "name": "python3"
  },
  "language_info": {
   "codemirror_mode": {
    "name": "ipython",
    "version": 2
   },
   "file_extension": ".py",
   "mimetype": "text/x-python",
   "name": "python",
   "nbconvert_exporter": "python",
   "pygments_lexer": "ipython2",
   "version": "2.7.6"
  }
 },
 "nbformat": 4,
 "nbformat_minor": 5
}

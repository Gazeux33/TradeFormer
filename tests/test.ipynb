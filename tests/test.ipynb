{
 "cells": [
  {
   "cell_type": "code",
   "id": "initial_id",
   "metadata": {
    "collapsed": true,
    "ExecuteTime": {
     "end_time": "2024-10-29T11:07:33.787492Z",
     "start_time": "2024-10-29T11:07:33.784709Z"
    }
   },
   "source": "import pandas as pd",
   "outputs": [],
   "execution_count": 3
  },
  {
   "metadata": {
    "ExecuteTime": {
     "end_time": "2024-10-29T11:09:13.193347Z",
     "start_time": "2024-10-29T11:09:13.158938Z"
    }
   },
   "cell_type": "code",
   "source": [
    "df_ett = pd.read_csv('data/ETT/ETTh1.csv')['date']\n",
    "df_ett = pd.to_datetime(df_ett)\n",
    "df_ett.head()"
   ],
   "id": "c9ddfb33aa458823",
   "outputs": [
    {
     "data": {
      "text/plain": [
       "0   2016-07-01 00:00:00\n",
       "1   2016-07-01 01:00:00\n",
       "2   2016-07-01 02:00:00\n",
       "3   2016-07-01 03:00:00\n",
       "4   2016-07-01 04:00:00\n",
       "Name: date, dtype: datetime64[ns]"
      ]
     },
     "execution_count": 11,
     "metadata": {},
     "output_type": "execute_result"
    }
   ],
   "execution_count": 11
  },
  {
   "metadata": {
    "ExecuteTime": {
     "end_time": "2024-10-29T11:09:05.209693Z",
     "start_time": "2024-10-29T11:09:05.084351Z"
    }
   },
   "cell_type": "code",
   "source": [
    "df_finance = pd.read_csv(\"data/ACBI.csv\")['date']\n",
    "\n",
    "df_finance = pd.to_datetime(df_finance)\n",
    "df_finance.head()"
   ],
   "id": "e4d849df4e91091e",
   "outputs": [
    {
     "data": {
      "text/plain": [
       "0   2020-01-02 14:30:00+00:00\n",
       "1   2020-01-02 14:45:00+00:00\n",
       "2   2020-01-02 14:46:00+00:00\n",
       "3   2020-01-02 14:48:00+00:00\n",
       "4   2020-01-02 14:50:00+00:00\n",
       "Name: date, dtype: datetime64[ns, UTC]"
      ]
     },
     "execution_count": 10,
     "metadata": {},
     "output_type": "execute_result"
    }
   ],
   "execution_count": 10
  },
  {
   "metadata": {
    "ExecuteTime": {
     "end_time": "2024-10-29T11:09:28.975652Z",
     "start_time": "2024-10-29T11:09:28.971808Z"
    }
   },
   "cell_type": "code",
   "source": "df_ett.dtypes",
   "id": "c8e9ed81bbadb9b7",
   "outputs": [
    {
     "data": {
      "text/plain": [
       "dtype('<M8[ns]')"
      ]
     },
     "execution_count": 12,
     "metadata": {},
     "output_type": "execute_result"
    }
   ],
   "execution_count": 12
  },
  {
   "metadata": {},
   "cell_type": "code",
   "outputs": [],
   "execution_count": null,
   "source": "2020-01-02 14:30:00+00:00  -> 2020-01-02 14:30:00",
   "id": "fab38df83cba873b"
  }
 ],
 "metadata": {
  "kernelspec": {
   "display_name": "Python 3",
   "language": "python",
   "name": "python3"
  },
  "language_info": {
   "codemirror_mode": {
    "name": "ipython",
    "version": 2
   },
   "file_extension": ".py",
   "mimetype": "text/x-python",
   "name": "python",
   "nbconvert_exporter": "python",
   "pygments_lexer": "ipython2",
   "version": "2.7.6"
  }
 },
 "nbformat": 4,
 "nbformat_minor": 5
}

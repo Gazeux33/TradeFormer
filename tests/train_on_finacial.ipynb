{
 "cells": [
  {
   "metadata": {
    "ExecuteTime": {
     "end_time": "2024-10-29T13:19:36.279211Z",
     "start_time": "2024-10-29T13:19:36.272652Z"
    }
   },
   "cell_type": "code",
   "source": [
    "from utils.tools import dotdict\n",
    "\n",
    "args = dotdict()\n",
    "args.target = 'close'\n",
    "args.des = 'test'\n",
    "args.dropout = 0.05\n",
    "args.num_workers = 10\n",
    "args.gpu = 0\n",
    "args.lradj = 'type1'\n",
    "args.devices = '0'\n",
    "args.use_gpu = True\n",
    "args.use_multi_gpu = False\n",
    "args.freq = 't'\n",
    "args.checkpoints = './checkpoints/'\n",
    "args.bucket_size = 4\n",
    "args.n_hashes = 4\n",
    "args.is_trainging = True\n",
    "args.root_path = './data/'\n",
    "args.data_path ='ACBI_test.csv'\n",
    "args.model_id='Financial_96_24'\n",
    "args.model = 'Autoformer'\n",
    "args.data = 'custom'\n",
    "args.features = 'M'\n",
    "args.seq_len = 96\n",
    "args.label_len = 48\n",
    "args.pred_len = 24\n",
    "args.e_layers = 2\n",
    "args.d_layers = 1\n",
    "args.n_heads = 8\n",
    "args.factor = 1\n",
    "args.enc_in = 5\n",
    "args.dec_in =5\n",
    "args.c_out = 5\n",
    "args.d_model = 512\n",
    "args.des = 'Exp'\n",
    "args.itr = 1\n",
    "args.d_ff = 2048\n",
    "args.moving_avg = 25\n",
    "args.factor = 1\n",
    "args.distil = True\n",
    "args.output_attention = False\n",
    "args.patience= 3\n",
    "args.learning_rate = 0.0001\n",
    "args.batch_size = 32\n",
    "args.embed = 'timeF'\n",
    "args.activation = 'gelu'\n",
    "args.use_amp = False\n",
    "args.loss = 'mse'\n",
    "args.train_epochs = 10"
   ],
   "id": "aea59708dfc2e754",
   "outputs": [],
   "execution_count": 27
  },
  {
   "metadata": {
    "ExecuteTime": {
     "end_time": "2024-10-29T13:19:38.987427Z",
     "start_time": "2024-10-29T13:19:38.982549Z"
    }
   },
   "cell_type": "code",
   "source": [
    "setting = '{}_{}_{}_ft{}_sl{}_ll{}_pl{}_dm{}_nh{}_el{}_dl{}_df{}_fc{}_eb{}_dt{}_{}_{}'.format(\n",
    "    args.model_id,\n",
    "    args.model,\n",
    "    args.data,\n",
    "    args.features,\n",
    "    args.seq_len,\n",
    "    args.label_len,\n",
    "    args.pred_len,\n",
    "    args.d_model,\n",
    "    args.n_heads,\n",
    "    args.e_layers,\n",
    "    args.d_layers,\n",
    "    args.d_ff,\n",
    "    args.factor,\n",
    "    args.embed,\n",
    "    args.distil,\n",
    "    args.des, 1)\n",
    "setting"
   ],
   "id": "57068d6692a95b97",
   "outputs": [
    {
     "data": {
      "text/plain": [
       "'Financial_96_24_Autoformer_custom_ftM_sl96_ll48_pl24_dm512_nh8_el2_dl1_df2048_fc1_ebtimeF_dtTrue_Exp_1'"
      ]
     },
     "execution_count": 28,
     "metadata": {},
     "output_type": "execute_result"
    }
   ],
   "execution_count": 28
  },
  {
   "metadata": {
    "ExecuteTime": {
     "end_time": "2024-10-29T13:19:41.647262Z",
     "start_time": "2024-10-29T13:19:41.471766Z"
    }
   },
   "cell_type": "code",
   "source": [
    "from models.Autoformer import Model as Autoformer\n",
    "import torch\n",
    "\n",
    "\n",
    "model = Autoformer(args)\n",
    "model.load_state_dict(torch.load('checkpoints/{}/checkpoint.pth'.format(setting)))"
   ],
   "id": "bef4206aafae2995",
   "outputs": [
    {
     "data": {
      "text/plain": [
       "<All keys matched successfully>"
      ]
     },
     "execution_count": 29,
     "metadata": {},
     "output_type": "execute_result"
    }
   ],
   "execution_count": 29
  },
  {
   "metadata": {
    "ExecuteTime": {
     "end_time": "2024-10-29T13:19:43.640393Z",
     "start_time": "2024-10-29T13:19:43.622113Z"
    }
   },
   "cell_type": "code",
   "source": [
    "from data_provider.data_loader import Dataset_Custom\n",
    "\n",
    "data_set = Dataset_Custom(\n",
    "    root_path=args.root_path,\n",
    "    data_path=args.data_path,\n",
    "    flag=\"train\",\n",
    "    size=[args.seq_len, args.label_len, args.pred_len],\n",
    "    features=args.features,\n",
    "    target=args.target,\n",
    "    timeenc= 0 if args.embed != 'timeF' else 1,\n",
    "    freq=args.freq\n",
    ")\n",
    "len(data_set)"
   ],
   "id": "1a7d6af3108b493",
   "outputs": [
    {
     "data": {
      "text/plain": [
       "2013"
      ]
     },
     "execution_count": 30,
     "metadata": {},
     "output_type": "execute_result"
    }
   ],
   "execution_count": 30
  },
  {
   "metadata": {
    "ExecuteTime": {
     "end_time": "2024-10-29T13:19:45.982717Z",
     "start_time": "2024-10-29T13:19:45.977533Z"
    }
   },
   "cell_type": "code",
   "source": [
    "seq_x, seq_y, seq_x_mark, seq_y_mark = data_set[0]\n",
    "seq_x.shape, seq_y.shape, seq_x_mark.shape, seq_y_mark.shape"
   ],
   "id": "14fcc16b7dba185b",
   "outputs": [
    {
     "data": {
      "text/plain": [
       "((96, 5), (72, 5), (96, 5), (72, 5))"
      ]
     },
     "execution_count": 31,
     "metadata": {},
     "output_type": "execute_result"
    }
   ],
   "execution_count": 31
  },
  {
   "metadata": {
    "ExecuteTime": {
     "end_time": "2024-10-29T13:19:47.867832Z",
     "start_time": "2024-10-29T13:19:47.863543Z"
    }
   },
   "cell_type": "code",
   "source": [
    "from torch.utils.data import DataLoader\n",
    "\n",
    "data_loader = DataLoader(data_set, batch_size=1, shuffle=True)\n",
    "len(data_loader)"
   ],
   "id": "241750d9c66465b0",
   "outputs": [
    {
     "data": {
      "text/plain": [
       "2013"
      ]
     },
     "execution_count": 32,
     "metadata": {},
     "output_type": "execute_result"
    }
   ],
   "execution_count": 32
  },
  {
   "metadata": {
    "ExecuteTime": {
     "end_time": "2024-10-29T14:23:18.466104Z",
     "start_time": "2024-10-29T14:23:18.461161Z"
    }
   },
   "cell_type": "code",
   "source": [
    "batch_x , batch_y, batch_x_mark, batch_y_mark = next(iter(data_loader))\n",
    "batch_x.shape, batch_y.shape, batch_x_mark.shape, batch_y_mark.shape"
   ],
   "id": "6ca7b79c1e51cb2b",
   "outputs": [
    {
     "data": {
      "text/plain": [
       "(torch.Size([1, 96, 5]),\n",
       " torch.Size([1, 72, 5]),\n",
       " torch.Size([1, 96, 5]),\n",
       " torch.Size([1, 72, 5]))"
      ]
     },
     "execution_count": 40,
     "metadata": {},
     "output_type": "execute_result"
    }
   ],
   "execution_count": 40
  },
  {
   "metadata": {
    "ExecuteTime": {
     "end_time": "2024-10-29T14:23:20.308403Z",
     "start_time": "2024-10-29T14:23:20.305591Z"
    }
   },
   "cell_type": "code",
   "source": [
    "batch_x = batch_x.float()\n",
    "batch_y = batch_y.float()\n",
    "batch_x_mark = batch_x_mark.float()\n",
    "batch_y_mark = batch_y_mark.float()"
   ],
   "id": "5cc625bebb7970e0",
   "outputs": [],
   "execution_count": 41
  },
  {
   "metadata": {
    "ExecuteTime": {
     "end_time": "2024-10-29T13:19:53.119544Z",
     "start_time": "2024-10-29T13:19:53.113398Z"
    }
   },
   "cell_type": "code",
   "source": [
    "import os\n",
    "import matplotlib.pyplot as plt\n",
    "\n",
    "def visualize_pred(batch_x, batch_y, output, result_dir=\"img\"):\n",
    "    os.makedirs(result_dir, exist_ok=True)\n",
    "    batch_x_np = batch_x.cpu().detach().numpy()\n",
    "    batch_y_np = batch_y.cpu().detach().numpy()\n",
    "    output_np = output.cpu().detach().numpy()\n",
    "\n",
    "    seq_len = len(batch_x_np[0, :, 0])      # longueur de la séquence d'entrée\n",
    "    out_len = len(output_np[0, :, 0])       # longueur de la séquence de sortie\n",
    "\n",
    "    for i in range(batch_x_np.shape[-1]):\n",
    "        plt.figure(figsize=(20, 10))\n",
    "\n",
    "        # Affichage de la séquence d'entrée\n",
    "        plt.plot(range(seq_len), batch_x_np[0, :, i], label='Input Sequence')\n",
    "\n",
    "        # Affichage de la séquence de sortie réelle en continuité de la séquence d'entrée\n",
    "        plt.plot(range(seq_len - 1, seq_len + out_len - 1), batch_y_np[0, -out_len:, i], label='True Output Sequence')\n",
    "\n",
    "        # Affichage de la séquence de sortie prédite en continuité de la séquence d'entrée\n",
    "        plt.plot(range(seq_len - 1, seq_len + out_len - 1), output_np[0, :, i], label='Predicted Output Sequence')\n",
    "\n",
    "        # Mise en forme de la figure\n",
    "        plt.xlabel('Time Steps')\n",
    "        plt.ylabel('Values')\n",
    "        plt.legend()\n",
    "        plt.savefig(f'{result_dir}/pred_{i}.png')\n",
    "        plt.close()"
   ],
   "id": "e60689ed3930b133",
   "outputs": [],
   "execution_count": 35
  },
  {
   "metadata": {
    "ExecuteTime": {
     "end_time": "2024-10-29T14:23:23.413796Z",
     "start_time": "2024-10-29T14:23:23.372719Z"
    }
   },
   "cell_type": "code",
   "source": [
    "output = model(batch_x, batch_x_mark, batch_y, batch_y_mark)\n",
    "output.shape"
   ],
   "id": "614cbf8b72dd35c2",
   "outputs": [
    {
     "data": {
      "text/plain": [
       "torch.Size([1, 24, 5])"
      ]
     },
     "execution_count": 42,
     "metadata": {},
     "output_type": "execute_result"
    }
   ],
   "execution_count": 42
  },
  {
   "metadata": {
    "ExecuteTime": {
     "end_time": "2024-10-29T14:23:25.341793Z",
     "start_time": "2024-10-29T14:23:24.656414Z"
    }
   },
   "cell_type": "code",
   "source": "visualize_pred(batch_x, batch_y, output,result_dir=\"financial\")",
   "id": "a6360f5fb92a9a50",
   "outputs": [],
   "execution_count": 43
  }
 ],
 "metadata": {
  "kernelspec": {
   "display_name": "Python 3",
   "language": "python",
   "name": "python3"
  },
  "language_info": {
   "codemirror_mode": {
    "name": "ipython",
    "version": 2
   },
   "file_extension": ".py",
   "mimetype": "text/x-python",
   "name": "python",
   "nbconvert_exporter": "python",
   "pygments_lexer": "ipython2",
   "version": "2.7.6"
  }
 },
 "nbformat": 4,
 "nbformat_minor": 5
}
